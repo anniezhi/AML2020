{
 "cells": [
  {
   "cell_type": "code",
   "execution_count": 1,
   "metadata": {},
   "outputs": [],
   "source": [
    "import numpy as np\n",
    "import pandas as pd\n",
    "import matplotlib.pyplot as plt\n",
    "from sklearn.linear_model import LinearRegression\n",
    "from sklearn.model_selection import train_test_split, cross_validate\n",
    "from sklearn.metrics import r2_score\n",
    "from sklearn.pipeline import make_pipeline\n",
    "# impute data\n",
    "from sklearn.impute import SimpleImputer\n",
    "# scaling the data\n",
    "from sklearn.preprocessing import RobustScaler, StandardScaler\n",
    "# different feature selection techniques\n",
    "from sklearn.feature_selection import VarianceThreshold, SelectPercentile, SelectKBest, RFECV, f_regression \n",
    "# different outlier detection techniques\n",
    "from sklearn.ensemble import IsolationForest\n",
    "from sklearn.covariance import EllipticEnvelope\n",
    "from sklearn.neighbors import LocalOutlierFactor\n",
    "# regression classifiers\n",
    "from sklearn.svm import LinearSVR, SVR"
   ]
  },
  {
   "cell_type": "code",
   "execution_count": 2,
   "metadata": {},
   "outputs": [],
   "source": [
    "#### IMPORT DATA ####\n",
    "# import data\n",
    "df_train = pd.read_csv('X_train.csv')\n",
    "df_data_to_predict = pd.read_csv('X_test.csv')\n",
    "df_y_train = pd.read_csv('y_train.csv')"
   ]
  },
  {
   "cell_type": "code",
   "execution_count": 3,
   "metadata": {},
   "outputs": [],
   "source": [
    "# convert to np arrays\n",
    "X = df_train.iloc[:,1:].to_numpy()\n",
    "y = df_y_train.iloc[:,1:].to_numpy().reshape(-1)\n",
    "X_to_predict = df_data_to_predict.iloc[:,1:].to_numpy()"
   ]
  },
  {
   "cell_type": "code",
   "execution_count": 4,
   "metadata": {},
   "outputs": [],
   "source": [
    "# impute missing data\n",
    "imputer = SimpleImputer(missing_values=np.nan, strategy='mean').fit(X,y)\n",
    "X = imputer.transform(X)\n",
    "X_to_predict = imputer.transform(X_to_predict)"
   ]
  },
  {
   "cell_type": "code",
   "execution_count": 5,
   "metadata": {
    "scrolled": true
   },
   "outputs": [],
   "source": [
    "#### OUTLIER DETECTION ####\n",
    "## Local Outlier Factor ##\n",
    "#outliers = LocalOutlierFactor().fit_predict(X)\n",
    "## Isolation forest ##\n",
    "outliers = IsolationForest(random_state=0).fit_predict(X)\n",
    "# only keep inliners in training set for regression classifier\n",
    "X = X[np.where(outliers == 1)[0]].copy()\n",
    "y = y[np.where(outliers == 1)[0]].copy()"
   ]
  },
  {
   "cell_type": "code",
   "execution_count": 6,
   "metadata": {},
   "outputs": [],
   "source": [
    "#### FEATURE SELECTION ####\n",
    "\n",
    "## Variance Threshold ##\n",
    "# find features which have 0 variance in training data\n",
    "selector = VarianceThreshold()\n",
    "selector.fit(X)\n",
    "# save column ids of feature vectors\n",
    "features_to_delete = np.where(selector.variances_ == 0)[0]\n",
    "# delete features from X_train and X_test\n",
    "X = np.delete(X, features_to_delete, axis=1)\n",
    "#X_test = np.delete(X_test, features_to_delete, axis=1)\n",
    "X_to_predict = np.delete(X_to_predict, features_to_delete, axis=1)"
   ]
  },
  {
   "cell_type": "code",
   "execution_count": 7,
   "metadata": {},
   "outputs": [],
   "source": [
    "# divide data into train and test set\n",
    "X_train, X_test, y_train, y_test = train_test_split(X, y, test_size=0.25, random_state=0)"
   ]
  },
  {
   "cell_type": "code",
   "execution_count": 7,
   "metadata": {
    "scrolled": true
   },
   "outputs": [
    {
     "name": "stdout",
     "output_type": "stream",
     "text": [
      "0.5974323927942743\n"
     ]
    }
   ],
   "source": [
    "#### PIPELINE ####\n",
    "# make a pipeline of the process\n",
    "# include standard scaling, feature extraction, missining value imputation\n",
    "highest_mean = -100\n",
    "#Cs = np.array([0.0001,0.0005, 0.001, 0.005, 0.01, 0.05, 0.1, 0.5, 1, 5, 10, 50, 100, 500, 1000, 5000])\n",
    "Cs = np.arange(51,52,0.1)\n",
    "#gammas = [0.023,0.024,0.025]\n",
    "#Cs = np.arange(35, 61, 1)\n",
    "#for i, c in enumerate(Cs):\n",
    "regr = make_pipeline(RobustScaler(), SelectKBest(f_regression, k=73), SVR(C=51, gamma=0.023))\n",
    "    #regr = make_pipeline(StandardScaler(), RFECV(SVR(kernel='linear'), verbose=1), SVR())\n",
    "    #### TRAIN THE MODEL ####\n",
    "    # run cross validation\n",
    "cv_results = cross_validate(regr, X, y, scoring=('r2'))\n",
    "if cv_results['test_score'].mean() > highest_mean:\n",
    "    highest_mean = cv_results['test_score'].mean()\n",
    "    #print('Number of features: {},  Mean: {}'.format(i, highest_mean))\n",
    "    print(highest_mean)\n",
    "    #print('C: {},  Mean: {}'.format(c, highest_mean))\n",
    "    #print('C: {}, Mean: {}'.format(i, cv_results['test_score'].mean()))\n",
    "#regr = regr.fit(X_train, y_train)"
   ]
  },
  {
   "cell_type": "code",
   "execution_count": 20,
   "metadata": {},
   "outputs": [],
   "source": [
    "# predict new data with best found predictor\n",
    "regr = make_pipeline(StandardScaler(), SelectKBest(f_regression, k=73), SVR(C=51, gamma=0.023))\n",
    "regr = regr.fit(X ,y)\n",
    "y_pred = regr.predict(X_to_predict)"
   ]
  },
  {
   "cell_type": "code",
   "execution_count": 21,
   "metadata": {},
   "outputs": [],
   "source": [
    "#### FINAL FILE ####\n",
    "# convert the predictions into the desired file format with ids\n",
    "df_ids = pd.DataFrame(df_data_to_predict['id'])\n",
    "df_predictions = df_ids.join(pd.DataFrame(y_pred, columns=['y']))"
   ]
  },
  {
   "cell_type": "code",
   "execution_count": 22,
   "metadata": {},
   "outputs": [],
   "source": [
    "# save the predictions dataframe\n",
    "df_predictions.to_csv('predictions.csv', index=False)"
   ]
  },
  {
   "cell_type": "code",
   "execution_count": null,
   "metadata": {},
   "outputs": [],
   "source": []
  }
 ],
 "metadata": {
  "kernelspec": {
   "display_name": "Python 3",
   "language": "python",
   "name": "python3"
  },
  "language_info": {
   "codemirror_mode": {
    "name": "ipython",
    "version": 3
   },
   "file_extension": ".py",
   "mimetype": "text/x-python",
   "name": "python",
   "nbconvert_exporter": "python",
   "pygments_lexer": "ipython3",
   "version": "3.7.4"
  }
 },
 "nbformat": 4,
 "nbformat_minor": 2
}
